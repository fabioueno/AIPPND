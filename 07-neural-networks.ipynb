{
 "cells": [
  {
   "cell_type": "markdown",
   "metadata": {},
   "source": [
    "# Neural networks\n",
    "\n",
    "Neural networks are a series of algorithms that mimic the human brain, in order to find complex boundaries to classify objects.\n",
    "\n",
    "## Perceptron\n",
    "\n",
    "The perceptron is the building block of a neural network, which receives some inputs ($x_1$, $x_2$, ..., $x_n$), associates them with **weights** ($w_1$, $w_2$, ..., $w_n$), process them ($w_1\\times x_1 + w_2\\times x_2 + ... + w_n\\times x_n$) and returns an output.\n",
    "\n",
    "This can also be written as $Wx + b$ where:\n",
    "\n",
    "- $W$ is the weight matrix.\n",
    "- $x$ is the inputs vector.\n",
    "- $b$ is the bias.\n",
    "\n",
    "Or $\\sum{W_i x_i} + b$.\n",
    "\n",
    "After that, we can apply a step function to check if the result should be logical true or false ($0$ or $1$)."
   ]
  },
  {
   "cell_type": "markdown",
   "metadata": {},
   "source": [
    "We can, for instance, create a perceptron as a logical `AND` operator."
   ]
  },
  {
   "cell_type": "code",
   "execution_count": 1,
   "metadata": {},
   "outputs": [],
   "source": [
    "import matplotlib.pyplot as plt\n",
    "import numpy as np\n",
    "import pandas as pd"
   ]
  },
  {
   "cell_type": "code",
   "execution_count": 2,
   "metadata": {},
   "outputs": [
    {
     "name": "stdout",
     "output_type": "stream",
     "text": [
      "Nice!  You got it all correct.\n",
      "\n",
      " Input 1    Input 2    Linear Combination    Activation Output   Is Correct\n",
      "       0          0                  -1.0                    0          Yes\n",
      "       0          1                  -0.3                    0          Yes\n",
      "       1          0                  -0.3                    0          Yes\n",
      "       1          1                   0.4                    1          Yes\n"
     ]
    }
   ],
   "source": [
    "weight1 = 0.7\n",
    "weight2 = 0.7\n",
    "bias = -1\n",
    "\n",
    "# Inputs and outputs\n",
    "test_inputs = [(0, 0), (0, 1), (1, 0), (1, 1)]\n",
    "correct_outputs = [False, False, False, True]\n",
    "outputs = []\n",
    "\n",
    "# Generate and check output\n",
    "for test_input, correct_output in zip(test_inputs, correct_outputs):\n",
    "    linear_combination = weight1 * test_input[0] + weight2 * test_input[1] + bias\n",
    "    output = int(linear_combination >= 0)\n",
    "    is_correct_string = 'Yes' if output == correct_output else 'No'\n",
    "    outputs.append([test_input[0], test_input[1], linear_combination, output, is_correct_string])\n",
    "\n",
    "# Print output\n",
    "num_wrong = len([output[4] for output in outputs if output[4] == 'No'])\n",
    "output_frame = pd.DataFrame(outputs, columns = ['Input 1', '  Input 2', '  Linear Combination', '  Activation Output', '  Is Correct'])\n",
    "if not num_wrong:\n",
    "    print('Nice!  You got it all correct.\\n')\n",
    "else:\n",
    "    print('You got {} wrong.  Keep trying!\\n'.format(num_wrong))\n",
    "print(output_frame.to_string(index = False))"
   ]
  },
  {
   "cell_type": "markdown",
   "metadata": {},
   "source": [
    "Or a `NOT` operator."
   ]
  },
  {
   "cell_type": "code",
   "execution_count": 3,
   "metadata": {},
   "outputs": [
    {
     "name": "stdout",
     "output_type": "stream",
     "text": [
      "Nice!  You got it all correct.\n",
      "\n",
      " Input 1    Input 2    Linear Combination    Activation Output   Is Correct\n",
      "       0          0                   0.5                    1          Yes\n",
      "       0          1                  -0.5                    0          Yes\n",
      "       1          0                   0.5                    1          Yes\n",
      "       1          1                  -0.5                    0          Yes\n"
     ]
    }
   ],
   "source": [
    "weight1 = 0\n",
    "weight2 = -1\n",
    "bias = 0.5\n",
    "\n",
    "# Inputs and outputs\n",
    "test_inputs = [(0, 0), (0, 1), (1, 0), (1, 1)]\n",
    "correct_outputs = [True, False, True, False]\n",
    "outputs = []\n",
    "\n",
    "# Generate and check output\n",
    "for test_input, correct_output in zip(test_inputs, correct_outputs):\n",
    "    linear_combination = weight1 * test_input[0] + weight2 * test_input[1] + bias\n",
    "    output = int(linear_combination >= 0)\n",
    "    is_correct_string = 'Yes' if output == correct_output else 'No'\n",
    "    outputs.append([test_input[0], test_input[1], linear_combination, output, is_correct_string])\n",
    "\n",
    "# Print output\n",
    "num_wrong = len([output[4] for output in outputs if output[4] == 'No'])\n",
    "output_frame = pd.DataFrame(outputs, columns = ['Input 1', '  Input 2', '  Linear Combination', '  Activation Output', '  Is Correct'])\n",
    "if not num_wrong:\n",
    "    print('Nice!  You got it all correct.\\n')\n",
    "else:\n",
    "    print('You got {} wrong.  Keep trying!\\n'.format(num_wrong))\n",
    "print(output_frame.to_string(index = False))"
   ]
  },
  {
   "cell_type": "markdown",
   "metadata": {},
   "source": [
    "It's easy to see we ignored the first input and negated the second one."
   ]
  },
  {
   "cell_type": "markdown",
   "metadata": {},
   "source": [
    "In practice, finding the weights and bias is the computer's job. It will randomly choose some values and check for misclassified observations. For each one, it'll add or subtract it's coordinates, multiplied by a learning rate.\n",
    "\n",
    "For example, let's suppose the equation $3x_1 + 4x_2 - 10 = 0$ was the first guess, and a missclassified point $(1, 1)$ should be classified as positive. We choose a learning rate, for instance 0.1 and let the perceptron do it's trick, adjusting the values:\n",
    "\n",
    "The original weights and bias are: $3$, $4$ and $-10$.\n",
    "\n",
    "After the first iteration it should be $(3 + 1\\times0.1)$, $(4 + 1\\times0.1)$ and $(-10 + 0.1)$, which results in $3.1$, $4.1$ and $-9.9$. After ten iterations, it should classify this correctly!"
   ]
  },
  {
   "cell_type": "markdown",
   "metadata": {},
   "source": [
    "### Perceptron code\n",
    "\n",
    "Recall that the perceptron step works as follows. For a point with coordinates $(p,q)(p,q)$, label $y$, and prediction given by the equation $\\hat{y} = step(w_1x_1 + w_2x_2 + b)$:\n",
    "\n",
    "- If the point is correctly classified, do nothing.\n",
    "- If the point is classified positive, but has a negative label, subtract $\\alpha p$, $\\alpha q$, and $\\alpha$ from $w_1$, $w_2$, and $b$ respectively.\n",
    "- If the point is classified negative, but has a positive label, add $\\alpha p$, $\\alpha q$, and $\\alpha$ from $w_1$, $w_2$, and $b$ respectively."
   ]
  },
  {
   "cell_type": "code",
   "execution_count": 4,
   "metadata": {},
   "outputs": [],
   "source": [
    "# Setting the random seed.\n",
    "np.random.seed(42)\n",
    "\n",
    "def stepFunction(t):\n",
    "    if t >= 0:\n",
    "        return 1\n",
    "    return 0\n",
    "\n",
    "def prediction(X, W, b):\n",
    "    return stepFunction((np.matmul(X, W) + b)[0])\n",
    "\n",
    "# The function should receive as inputs the data X, the labels y, the\n",
    "# weights W (as an array), and the bias b, update the weights and\n",
    "# bias W, b, according to the perceptron algorithm, and return W and b.\n",
    "def perceptronStep(X, y, W, b, learn_rate = 0.01):\n",
    "    for i in range(len(X)):\n",
    "        y_hat = prediction(X[i], W, b)\n",
    "\n",
    "        if y[i] > y_hat:\n",
    "            W[0] += X[i][0] * learn_rate\n",
    "            W[1] += X[i][1] * learn_rate\n",
    "            b += learn_rate\n",
    "        elif y[i] < y_hat:\n",
    "            W[0] -= X[i][0] * learn_rate\n",
    "            W[1] -= X[i][1] * learn_rate\n",
    "            b -= learn_rate\n",
    "    return W, b\n",
    "\n",
    "# This function runs the perceptron algorithm repeatedly on the\n",
    "# dataset, and returns a few of the boundary lines obtained in the\n",
    "# iterations, for plotting purposes.\n",
    "def trainPerceptronAlgorithm(X, y, learn_rate = 0.01, num_epochs = 25):\n",
    "    x_min, x_max = min(X.T[0]), max(X.T[0])\n",
    "    y_min, y_max = min(X.T[1]), max(X.T[1])\n",
    "    W = np.array(np.random.rand(2, 1))\n",
    "    b = np.random.rand(1)[0] + x_max\n",
    "\n",
    "    # These are the solution lines that get plotted below.\n",
    "    boundary_lines = []\n",
    "    for i in range(num_epochs):\n",
    "        W, b = perceptronStep(X, y, W, b, learn_rate)\n",
    "        boundary_lines.append((-W[0]/W[1], -b/W[1]))\n",
    "    return boundary_lines"
   ]
  },
  {
   "cell_type": "code",
   "execution_count": 5,
   "metadata": {},
   "outputs": [],
   "source": [
    "# This function plot lines for each of the steps.\n",
    "def plot_line(slope, intercept, alpha):\n",
    "    axes = plt.gca()\n",
    "    x = np.array(axes.get_xlim())\n",
    "    y = intercept + slope * x\n",
    "    plt.plot(x, y, alpha = alpha)"
   ]
  },
  {
   "cell_type": "code",
   "execution_count": 6,
   "metadata": {},
   "outputs": [
    {
     "data": {
      "image/png": "[encoded data removed]",
      "text/plain": [
       "<Figure size 432x288 with 1 Axes>"
      ]
     },
     "metadata": {
      "needs_background": "light"
     },
     "output_type": "display_data"
    }
   ],
   "source": [
    "# Testing...\n",
    "df = pd.read_csv('./csv/perceptron-data.csv', header = None)\n",
    "\n",
    "plt.scatter(df[0], df[1], c = df[2])\n",
    "matrix = df[[0, 1]].to_numpy()\n",
    "\n",
    "lines = trainPerceptronAlgorithm(matrix, df[2].to_numpy(), learn_rate = 0.01, num_epochs = 50)\n",
    "\n",
    "alpha = 0\n",
    "increment = 1 / len(lines)\n",
    "\n",
    "for line in lines:\n",
    "    alpha = alpha + increment\n",
    "    plot_line(line[0], line[1], alpha)\n",
    "\n",
    "plt.xlim(0, 1)\n",
    "plt.ylim(0, 1)\n",
    "plt.show()"
   ]
  },
  {
   "cell_type": "markdown",
   "metadata": {},
   "source": [
    "## Gradient descent & Sigmoid function\n",
    "\n",
    "When dealing with non-linear regions, we need to generalize the Perceptron to other types of curves different from lines.\n",
    "\n",
    "Error functions assist us telling how far we are from the solution. With the use of **gradient descent**, small steps are taken and after each, we calculate the error, i.e. how the step took us closer to the result. In order to do this, the error function should be continuous, not discrete, so out step function won't work and will be replaced for a **Sigmoid function**:\n",
    "\n",
    "$\\sigma(x) = \\frac{1}{1 + e^{-x}}$"
   ]
  },
  {
   "cell_type": "markdown",
   "metadata": {},
   "source": [
    "## Softmax function\n",
    "\n",
    "The next step to evolve the algorithm is to have multiple classes, so a yes/no answer won't suffice. What was done up until now was calculating the probability of an event, and it's complement as a consequence. If we desire to have multiple classes - type of animal, for example - we'll have to use a different function, called **Softmax function**:\n",
    "\n",
    "$P(i) = \\frac{e^{z_i}}{e^{z_1} + ... + e^{z_i}}$"
   ]
  },
  {
   "cell_type": "code",
   "execution_count": 7,
   "metadata": {},
   "outputs": [],
   "source": [
    "# Function that takes as input a list of numbers, and returns\n",
    "# the list of values given by the softmax function.\n",
    "def softmax(L):\n",
    "    exp = np.exp(L)\n",
    "    sumExp = sum(exp)\n",
    "    result = [i / sumExp for i in exp]\n",
    "    return result"
   ]
  },
  {
   "cell_type": "markdown",
   "metadata": {},
   "source": [
    "## One-hot encoding\n",
    "\n",
    "Not always the data will be numeric. When there are multiple classes, it's values can be a string, like `Bird`, `Cat`, `Dog`. **One-hot encoding** is the process of transforming each of these values into its own column.\n",
    "\n",
    "|Animal|\n",
    "|:----:|\n",
    "|Bird|\n",
    "|Cat|\n",
    "|Dog|\n",
    "\n",
    "|Bird|Cat|Dog|\n",
    "|:--:|:-:|:-:|\n",
    "|1|0|0|\n",
    "|0|1|0|\n",
    "|0|0|1|"
   ]
  },
  {
   "cell_type": "markdown",
   "metadata": {},
   "source": [
    "## Maximum likelihood & Cross entropy\n",
    "\n",
    "The best algorithm is the one that gives the best probabilities to events that happened and this method is called **maximum likelihood**. The sum of negative logarithms of all probabilities is called **cross entropy**:\n",
    "\n",
    "$$CE = - \\sum_{i=1}^{m}y_i \\times ln(p_i) + (1 - y_i) \\times ln(1 - p_i)$$\n",
    "\n",
    "Where $p_i$ is the probability of event $i$ and $y_i$ is the outcome of event $i$.\n",
    "\n",
    "Our goal now is to minimize the cross entropy, thus getting the best algorithm."
   ]
  },
  {
   "cell_type": "code",
   "execution_count": 8,
   "metadata": {},
   "outputs": [],
   "source": [
    "def cross_entropy(Y, P):\n",
    "    Y = np.float_(Y)\n",
    "    P = np.float_(P)\n",
    "    return -np.sum(Y * np.log(P) + (1 - Y) * np.log(1 - P))"
   ]
  },
  {
   "cell_type": "markdown",
   "metadata": {},
   "source": [
    "For multiple classes, the cross entropy can be writen as the following:\n",
    "\n",
    "$$CE = - \\sum_{i = 1}^{n}\\sum_{j = 1}^{m}y_{ij} \\times ln(p_{ij})$$"
   ]
  },
  {
   "cell_type": "markdown",
   "metadata": {},
   "source": [
    "## Error function\n",
    "\n",
    "The error function is the cross entropy divided by the number of events:\n",
    "\n",
    "$$E = - \\frac{1}{m} \\sum_{i=1}^{m}y_i \\times ln(\\hat{y_i}) + (1 - y_i) \\times ln(1 - \\hat{y_i})$$\n",
    "\n",
    "Which can be rewriten as follows:\n",
    "\n",
    "$$E(W,b) = - \\frac{1}{m} \\sum_{i=1}^{m}y_i \\times ln(\\sigma(Wx_i + b)) + (1 - y_i) \\times ln(1 - \\sigma(Wx_i + b))$$"
   ]
  },
  {
   "cell_type": "markdown",
   "metadata": {},
   "source": [
    "The gradient of E is the following:\n",
    "\n",
    "$$∇E = (\\frac{\\partial E}{\\partial w_1}, \\frac{\\partial E}{\\partial w_2}, ..., \\frac{\\partial E}{\\partial w_n}, \\frac{\\partial E}{\\partial b})$$\n",
    "\n",
    "Doing the proper calculations of the partial derivatives, it comes to this:\n",
    "\n",
    "$$∇E = - (y - \\hat{i})(x_1, x_2, ... , x_n, 1)$$\n",
    "\n",
    "Which means, the gradient is actually a scalar (multiple of the difference between the label and the prediction) times the coordinates of the point.\n",
    "\n",
    "\n",
    "$w'_i ← w_i + \\alpha(y - \\hat{y})x_i$\n",
    "\n",
    "$b' ← b + \\alpha(y - \\hat{y})$"
   ]
  },
  {
   "cell_type": "markdown",
   "metadata": {},
   "source": [
    "## Neural network\n",
    "\n",
    "A neural network is \"simply\" a linear combination of perceptrons.\n",
    "\n",
    "![Neural network diagram](./img/neural-network-01.png)\n",
    "![Neural network diagram](./img/neural-network-02.png)\n",
    "\n",
    "In the example above, the first first perceptron receives two inputs, $x_1$ and $x_2$, with weights $5$ and $-2$, respectively, and a bias of $-8$. Similarly, the second receives its inputs with weights $7$ and $3$ and bias $1$. Then we combine these two perceptrons with a weight of $7$ for the first and $5$ for the second, subtracting $6$ of bias. The inputs are called _input layer_, the middle layer is called _hidden layer_ and the final outcome, _output layer_.\n",
    "\n",
    "It's possible to have multiple hidden layers, and that's called a deep neural network.\n",
    "\n",
    "At the same time, we can have multiple outcomes, when dealing with multi-class, for instance. That is possible by having multiple outputs in the final layer."
   ]
  },
  {
   "cell_type": "markdown",
   "metadata": {},
   "source": [
    "## Feedforward\n",
    "\n",
    "Feedforward is the process neural networks use to turn an output from one layer into an input for the next layer.\n",
    "\n",
    "![Feedforward process](./img/feedforward.png)"
   ]
  },
  {
   "cell_type": "markdown",
   "metadata": {},
   "source": [
    "## Backpropagation\n",
    "\n",
    "Backpropagation is the opposite of feedforward. When we have the output of the neural network, we calculate its error and spread it backwards, updating the weights to get a better model.\n",
    "\n",
    "![Backpropagation process](./img/backpropagation-01.png)\n",
    "![Backpropagation process](./img/backpropagation-02.png)"
   ]
  },
  {
   "cell_type": "markdown",
   "metadata": {},
   "source": [
    "## Underfitting and overfitting\n",
    "\n",
    "In machine learning, it's common to create solutions too simple to solve the problem and the algorithm misclassifies a resonable amount of data. Similarly, we often see solutions excessively complicated to achieve the goal, making it too specific. These are called _underfitting_ and _overfitting_, respectively.\n",
    "\n",
    "![Underfitting and overfitting](./img/fitting-errors.png)"
   ]
  },
  {
   "cell_type": "markdown",
   "metadata": {},
   "source": [
    "### Early stopping\n",
    "\n",
    "When training our model, it begins with lots of errors and as we advance in epochs, the number of errors decreases. But that's true for the training error. When we split the dataset for training and testing, the testing errors decrease in the beginning, but starts to increase after a while. Early stopping is the technique used to stop training when testing errors is minimum."
   ]
  },
  {
   "cell_type": "markdown",
   "metadata": {},
   "source": [
    "## Regularization\n",
    "\n",
    "Large coefficients result in less errors, but also end up with an overfitting model, which can be hard to generalize.\n",
    "\n",
    "The fix to this problem is to tweak the error function, penalizing large weights. The first way to do this, is adding $\\lambda (|w_1| + ... + |w_n|)$, which is called _L1 regularization_. The second we add $\\lambda (w_1^2 + ... + w_n^2)$ and this is called _L2 regularization_.\n",
    "\n",
    "The first is useful for feature selection, and the second is better for training models."
   ]
  },
  {
   "cell_type": "markdown",
   "metadata": {},
   "source": [
    "## Dropout\n",
    "\n",
    "There can be times when the weights of a particular node dominates the training and some others don't even have a significant role in the model. To avoid this situation, during each epoch we randomly turn off some nodes and that's called _dropout_. This is done assigning a probability for each node to be dropped at each epoch."
   ]
  },
  {
   "cell_type": "markdown",
   "metadata": {},
   "source": [
    "## Local minima & random restart\n",
    "\n",
    "Gradient descent helped us take a step in the direction to find the minimum of a function. But we can end up being stuck in a local minima. To increase the odds of finding the global minima we use what's called _random restart_, which is simply restarting at different points of the function."
   ]
  },
  {
   "cell_type": "markdown",
   "metadata": {},
   "source": [
    "## Activation functions\n",
    "\n",
    "Since the Sigmoid function only return values between $0$ and $1$, it's derivative is very small, and the steps taken in gradient descent becomes too small. To surpass this problem, there are other common activation functions, such as the _hyperbolic tangent_ and the _rectified linear unit (relu)_:\n",
    "\n",
    "$$tanh(x) = \\frac{e^x - e^{-x}}{e^x + e^{-x}}$$\n",
    "\n",
    "$$relu(x) = \\begin{cases}\n",
    "    x & \\text{if} & x \\ge 0\\\\\n",
    "    0 & \\text{if} & x < 0\n",
    "    \\end{cases}$$"
   ]
  },
  {
   "cell_type": "markdown",
   "metadata": {},
   "source": [
    "## Stochastic gradient descent\n",
    "\n",
    "Gradient descent tells us to use all our datapoints, run through the neural network, calculate the error and backpropagate to get better weights. Real datasets have millions of observations which can require a lot of memory to do the computation. _Stochastic gradient descent_ splits the dataset into batches and do this process with each batch."
   ]
  },
  {
   "cell_type": "markdown",
   "metadata": {},
   "source": [
    "## Learning rate\n",
    "\n",
    "The use of the learning rate can have a huge impact in the result of the model. If it's too big, we approach the minimum faster, but may end up never reaching it. If it's too small, we may need a very long time to train the model, but can find the optimal solution."
   ]
  },
  {
   "cell_type": "markdown",
   "metadata": {},
   "source": [
    "## Momentum\n",
    "\n",
    "When we face a local minima, we can use the previous steps to help us surpass a hump and try to find the global minima. This is done using a constant momentum ($\\beta$):\n",
    "\n",
    "$$step(n) = step(n - 1) + \\beta \\times step(n - 2) + \\beta^2 \\times step(n - 3) + ...$$"
   ]
  }
 ],
 "metadata": {
  "kernelspec": {
   "display_name": "Python 3",
   "language": "python",
   "name": "python3"
  },
  "language_info": {
   "codemirror_mode": {
    "name": "ipython",
    "version": 3
   },
   "file_extension": ".py",
   "mimetype": "text/x-python",
   "name": "python",
   "nbconvert_exporter": "python",
   "pygments_lexer": "ipython3",
   "version": "3.8.5"
  }
 },
 "nbformat": 4,
 "nbformat_minor": 4
}
