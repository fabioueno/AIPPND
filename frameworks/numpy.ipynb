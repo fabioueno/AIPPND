{
 "cells": [
  {
   "cell_type": "markdown",
   "metadata": {},
   "source": [
    "# NumPy\n",
    "\n",
    "> The fundamental package for scientific computing with Python. -- [NumPy](https://numpy.org)\n",
    "\n",
    "NumPy stands for _Numerical Python_ and provides an extensive Math library build on top of the **_homogeneous N-dimensional array_**, also known as `ndarray`."
   ]
  },
  {
   "cell_type": "code",
   "execution_count": 1,
   "metadata": {},
   "outputs": [],
   "source": [
    "import numpy as np"
   ]
  },
  {
   "cell_type": "markdown",
   "metadata": {},
   "source": [
    "## `ndarray`\n",
    "\n",
    "###  Array creation\n",
    "As previously stated, NumPy's core is the `ndarray` and there are a [number of ways to create it](https://numpy.org/doc/stable/reference/routines.array-creation.html), with [`numpy.array`](https://numpy.org/doc/stable/reference/generated/numpy.array.html), [`numpy.arange`](https://numpy.org/doc/stable/reference/generated/numpy.arange.html) and [`numpy.linspace`](https://numpy.org/doc/stable/reference/generated/numpy.linspace.html) being the most common."
   ]
  },
  {
   "cell_type": "code",
   "execution_count": 2,
   "metadata": {},
   "outputs": [
    {
     "name": "stdout",
     "output_type": "stream",
     "text": [
      "x = [1 2 3 4]\n",
      "\n",
      "y = \n",
      "[[0. 1. 2.]\n",
      " [3. 4. 5.]\n",
      " [6. 7. 8.]]\n",
      "\n",
      "z = \n",
      "[[[ 10  13  17  21]\n",
      "  [ 25  29  33  37]\n",
      "  [ 41  45  49  53]]\n",
      "\n",
      " [[ 56  60  64  68]\n",
      "  [ 72  76  80  84]\n",
      "  [ 88  92  96 100]]]\n"
     ]
    }
   ],
   "source": [
    "x = np.array([1, 2, 3, 4])\n",
    "y = np.arange(9, dtype = float).reshape(3, 3)\n",
    "z = np.linspace(10, 100, 24, dtype = int).reshape(2, 3, 4)\n",
    "\n",
    "print(f'x = {x}')\n",
    "print('')\n",
    "print(f'y = \\n{y}')\n",
    "print('')\n",
    "print(f'z = \\n{z}')"
   ]
  },
  {
   "cell_type": "markdown",
   "metadata": {},
   "source": [
    "### Array attributes\n",
    "\n",
    "It's possible to get information about the array using its [attributes](https://numpy.org/doc/stable/reference/arrays.ndarray.html#array-attributes)."
   ]
  },
  {
   "cell_type": "code",
   "execution_count": 3,
   "metadata": {},
   "outputs": [
    {
     "name": "stdout",
     "output_type": "stream",
     "text": [
      "Array: x\n",
      "Rank (dimensions): 1\n",
      "Shape: (4,)\n",
      "Data type: int64\n",
      "\n",
      "Array: y\n",
      "Rank (dimensions): 2\n",
      "Shape: (3, 3)\n",
      "Data type: float64\n",
      "\n",
      "Array: z\n",
      "Rank (dimensions): 3\n",
      "Shape: (2, 3, 4)\n",
      "Data type: int64\n"
     ]
    }
   ],
   "source": [
    "print('Array: x')\n",
    "print(f'Rank (dimensions): {x.ndim}')\n",
    "print(f'Shape: {x.shape}')\n",
    "print(f'Data type: {x.dtype}')\n",
    "print('')\n",
    "\n",
    "print('Array: y')\n",
    "print(f'Rank (dimensions): {y.ndim}')\n",
    "print(f'Shape: {y.shape}')\n",
    "print(f'Data type: {y.dtype}')\n",
    "print('')\n",
    "\n",
    "print('Array: z')\n",
    "print(f'Rank (dimensions): {z.ndim}')\n",
    "print(f'Shape: {z.shape}')\n",
    "print(f'Data type: {z.dtype}')"
   ]
  },
  {
   "cell_type": "markdown",
   "metadata": {},
   "source": [
    "### Array methods\n",
    "\n",
    "Arrays also have several methods for [shape manipulation](https://numpy.org/doc/stable/reference/arrays.ndarray.html#shape-manipulation), such as `ndarray.reshape`, and [item selection and manipulation](https://numpy.org/doc/stable/reference/arrays.ndarray.html#item-selection-and-manipulation).\n",
    "\n",
    "It's worth noting, NumPy provides a collection of [routines](https://numpy.org/doc/stable/reference/routines.array-manipulation.html) (functions) for manipulating arrays and some have the same result of the methods."
   ]
  },
  {
   "cell_type": "code",
   "execution_count": 4,
   "metadata": {},
   "outputs": [
    {
     "name": "stdout",
     "output_type": "stream",
     "text": [
      "x = \n",
      "[[[0 1]\n",
      "  [2 3]]\n",
      "\n",
      " [[4 5]\n",
      "  [6 7]]]\n",
      "\n",
      "y = [0 1 2 3 4 5 6 7]\n"
     ]
    }
   ],
   "source": [
    "x = np.arange(8).reshape(2, 2, 2)\n",
    "y = np.array([[[0, 1], [2, 3]], [[4, 5], [6, 7]]]).flatten()\n",
    "\n",
    "print(f'x = \\n{x}')\n",
    "print('')\n",
    "print(f'y = {y}')"
   ]
  },
  {
   "cell_type": "markdown",
   "metadata": {},
   "source": [
    "### Indexing and slicing\n",
    "\n",
    "`ndarray`'s support Python standard indexing and slicing - `arr[e]`, `arr[e:f]`, `arr[e:]`, `arr[:f]` -, but one advanced indexing is _Boolean Indexing_, which instead of using explicit indices, it uses logical arguments. For more on indexing, NumPy has a [dedicated section to indexing and slicing](https://numpy.org/doc/stable/reference/arrays.indexing.html)."
   ]
  },
  {
   "cell_type": "code",
   "execution_count": 5,
   "metadata": {},
   "outputs": [
    {
     "name": "stdout",
     "output_type": "stream",
     "text": [
      "x = \n",
      "[[ 0  1  2  3  4]\n",
      " [ 5  6  7  8  9]\n",
      " [10 11 12 13 14]\n",
      " [15 16 17 18 19]\n",
      " [20 21 22 23 24]]\n",
      "\n",
      "Even elements: [ 0  2  4  6  8 10 12 14 16 18 20 22 24]\n",
      "Elements greater than 15: [16 17 18 19 20 21 22 23 24]\n",
      "Elements greater than 5 and less than or equal to 10: [ 6  7  8  9 10]\n"
     ]
    }
   ],
   "source": [
    "x = np.arange(25).reshape(5, 5)\n",
    "\n",
    "print(f'x = \\n{x}')\n",
    "print('')\n",
    "\n",
    "print(f'Even elements: {x[x % 2 == 0]}')\n",
    "print(f'Elements greater than 15: {x[x > 15]}')\n",
    "print(f'Elements greater than 5 and less than or equal to 10: {x[(x > 5) & (x <= 10)]}')"
   ]
  },
  {
   "cell_type": "markdown",
   "metadata": {},
   "source": [
    "### Set routines\n",
    "\n",
    "It's possible to perform [set operations](https://numpy.org/doc/stable/reference/routines.set.html) on NumPy arrays, like [`numpy.intersect1d`](https://numpy.org/doc/stable/reference/generated/numpy.intersect1d.html) and [`numpy.union1d`](https://numpy.org/doc/stable/reference/generated/numpy.union1d.html)."
   ]
  },
  {
   "cell_type": "code",
   "execution_count": 6,
   "metadata": {},
   "outputs": [
    {
     "name": "stdout",
     "output_type": "stream",
     "text": [
      "x = [1 2 3 4 5 6 7 8 9]\n",
      "y = [ 1  3  5  7  9 11 13 15]\n",
      "z = [ 2  4  6  8 10]\n",
      "\n",
      "Difference between x and z: [1 3 5 7 9]\n",
      "Union between y and z: [ 1  2  3  4  5  6  7  8  9 10 11 13 15]\n",
      "Intersection between x and y: [1 3 5 7 9]\n"
     ]
    }
   ],
   "source": [
    "x = np.arange(1, 10)\n",
    "y = np.array([1, 3, 5, 7, 9, 11, 13, 15])\n",
    "z = np.array([2, 4, 6, 8, 10])\n",
    "\n",
    "print(f'x = {x}')\n",
    "print(f'y = {y}')\n",
    "print(f'z = {z}')\n",
    "print('')\n",
    "\n",
    "print(f'Difference between x and z: {np.setdiff1d(x, z)}')\n",
    "print(f'Union between y and z: {np.union1d(y, z)}')\n",
    "print(f'Intersection between x and y: {np.intersect1d(x, y)}')"
   ]
  },
  {
   "cell_type": "markdown",
   "metadata": {},
   "source": [
    "### Mathematical operations\n",
    "\n",
    "We can sum, subtract, multiply and divide arrays in an element-wise mode, using the mathematical symbols, i.e. `+`, `-`, `*` and `/`, respectively. There also other operations possible described [here](https://numpy.org/doc/stable/reference/arrays.ndarray.html#arithmetic-matrix-multiplication-and-comparison-operations).\n",
    "\n",
    "There are also lots of [mathematical functions](https://numpy.org/doc/stable/reference/routines.math.html) available that go beyond the basic arithmetic."
   ]
  },
  {
   "cell_type": "code",
   "execution_count": 7,
   "metadata": {},
   "outputs": [
    {
     "name": "stdout",
     "output_type": "stream",
     "text": [
      "x = [10 20 30 40]\n",
      "y = [1 2 3 4]\n",
      "\n",
      "x + y = [11 22 33 44]\n",
      "x - y = [ 9 18 27 36]\n",
      "x * y = [ 10  40  90 160]\n",
      "x / y = [10. 10. 10. 10.]\n",
      "\n",
      "exp(x) = [2.20264658e+04 4.85165195e+08 1.06864746e+13 2.35385267e+17]\n",
      "log(x) = [2.30258509 2.99573227 3.40119738 3.68887945]\n"
     ]
    }
   ],
   "source": [
    "x = np.array([10, 20, 30, 40])\n",
    "y = np.array([1, 2, 3, 4])\n",
    "\n",
    "print(f'x = {x}')\n",
    "print(f'y = {y}')\n",
    "print('')\n",
    "\n",
    "print(f'x + y = {x + y}')\n",
    "print(f'x - y = {x - y}')\n",
    "print(f'x * y = {x * y}')\n",
    "print(f'x / y = {x / y}')\n",
    "print('')\n",
    "print(f'exp(x) = {np.exp(x)}')\n",
    "print(f'log(x) = {np.log(x)}')"
   ]
  },
  {
   "cell_type": "markdown",
   "metadata": {},
   "source": [
    "There are also some useful [statistics routines](https://numpy.org/doc/stable/reference/routines.statistics.html), which include median, average, mean, standard deviation, and so on..."
   ]
  },
  {
   "cell_type": "code",
   "execution_count": 8,
   "metadata": {},
   "outputs": [
    {
     "name": "stdout",
     "output_type": "stream",
     "text": [
      "x = \n",
      "[[1 2 3]\n",
      " [4 5 6]\n",
      " [7 8 9]]\n",
      "\n",
      "Mean: 5.0\n",
      "Mean of columns: [4. 5. 6.]\n",
      "Mean of rows: [2. 5. 8.]\n",
      "\n",
      "Standard deviation: 2.581988897471611\n",
      "Standard deviation of columns: [2.44948974 2.44948974 2.44948974]\n",
      "Standard deviation of rows: [0.81649658 0.81649658 0.81649658]\n"
     ]
    }
   ],
   "source": [
    "x = np.array([[1, 2, 3], [4, 5, 6], [7, 8, 9]])\n",
    "\n",
    "print(f'x = \\n{x}')\n",
    "print('')\n",
    "\n",
    "print(f'Mean: {np.mean(x)}')\n",
    "print(f'Mean of columns: {np.mean(x, axis = 0)}')\n",
    "print(f'Mean of rows: {np.mean(x, axis = 1)}')\n",
    "print('')\n",
    "\n",
    "print(f'Standard deviation: {np.std(x)}')\n",
    "print(f'Standard deviation of columns: {np.std(x, axis = 0)}')\n",
    "print(f'Standard deviation of rows: {np.std(x, axis = 1)}')"
   ]
  },
  {
   "cell_type": "markdown",
   "metadata": {},
   "source": [
    "#### Broadcasting\n",
    "\n",
    "If we want to perform an operation using two arrays that are of different sizes, NumPy can do what's called [_broadcasting_](https://numpy.org/doc/stable/reference/ufuncs.html#ufuncs-broadcasting) - given some rules. Basically, the smaller array needs to be expandable to the shape of the larger one in such a way that the resulting isn't ambiguous."
   ]
  },
  {
   "cell_type": "code",
   "execution_count": 9,
   "metadata": {},
   "outputs": [
    {
     "name": "stdout",
     "output_type": "stream",
     "text": [
      "x = [5]\n",
      "y = [1 2 3]\n",
      "z = \n",
      "[[1 2 3]\n",
      " [4 5 6]\n",
      " [7 8 9]]\n",
      "\n",
      "y + z = [6 7 8]\n",
      "x * z = \n",
      "[[ 5 10 15]\n",
      " [20 25 30]\n",
      " [35 40 45]]\n"
     ]
    }
   ],
   "source": [
    "x = np.array([5])\n",
    "y = np.arange(1, 4)\n",
    "z = np.arange(1, 10).reshape(3, 3)\n",
    "\n",
    "print(f'x = {x}')\n",
    "print(f'y = {y}')\n",
    "print(f'z = \\n{z}')\n",
    "print('')\n",
    "\n",
    "print(f'y + z = {x + y}')\n",
    "print(f'x * z = \\n{x * z}')"
   ]
  }
 ],
 "metadata": {
  "kernelspec": {
   "display_name": "Python 3",
   "language": "python",
   "name": "python3"
  },
  "language_info": {
   "codemirror_mode": {
    "name": "ipython",
    "version": 3
   },
   "file_extension": ".py",
   "mimetype": "text/x-python",
   "name": "python",
   "nbconvert_exporter": "python",
   "pygments_lexer": "ipython3",
   "version": "3.8.5"
  }
 },
 "nbformat": 4,
 "nbformat_minor": 4
}
