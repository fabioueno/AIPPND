{
 "cells": [
  {
   "cell_type": "markdown",
   "metadata": {},
   "source": [
    "# Pandas\n",
    "\n",
    "> Pandas is a fast, powerful, flexible and easy to use open source data analysis and manipulation tool,\n",
    "built on top of the Python programming language. -- [Pandas](https://pandas.pydata.org)\n",
    "\n",
    "The name Pandas is derived from the econometrics term _Panel Data_ and has two data structures, **_Pandas Series_** and **_Pandas DataFrame_**."
   ]
  },
  {
   "cell_type": "code",
   "execution_count": 1,
   "metadata": {},
   "outputs": [],
   "source": [
    "import numpy as np\n",
    "import pandas as pd"
   ]
  },
  {
   "cell_type": "markdown",
   "metadata": {},
   "source": [
    "## `Series`\n",
    "\n",
    "[`Series`](https://pandas.pydata.org/docs/reference/series.html) is a one-dimensional array that can hold different data types."
   ]
  },
  {
   "cell_type": "code",
   "execution_count": 2,
   "metadata": {},
   "outputs": [
    {
     "name": "stdout",
     "output_type": "stream",
     "text": [
      "eggs       30\n",
      "apples      6\n",
      "milk      Yes\n",
      "bread      No\n",
      "dtype: object\n"
     ]
    }
   ],
   "source": [
    "groceries = pd.Series(data = [30, 6, 'Yes', 'No'], index = ['eggs', 'apples', 'milk', 'bread'])\n",
    "\n",
    "print(groceries)"
   ]
  },
  {
   "cell_type": "markdown",
   "metadata": {},
   "source": [
    "### `Series` attributes\n",
    "\n",
    "Like `ndarray`'s, a `Series` also has [attributes](https://pandas.pydata.org/docs/reference/series.html#attributes) that allow us to retrieve information about itself."
   ]
  },
  {
   "cell_type": "code",
   "execution_count": 3,
   "metadata": {},
   "outputs": [
    {
     "name": "stdout",
     "output_type": "stream",
     "text": [
      "Rank (dimensions): 1\n",
      "Shape: (4,)\n",
      "Data type: object\n",
      "\n",
      "Values: [30 6 'Yes' 'No']\n",
      "Index: Index(['eggs', 'apples', 'milk', 'bread'], dtype='object')\n"
     ]
    }
   ],
   "source": [
    "print(f'Rank (dimensions): {groceries.ndim}')\n",
    "print(f'Shape: {groceries.shape}')\n",
    "print(f'Data type: {groceries.dtype}')\n",
    "print('')\n",
    "\n",
    "print(f'Values: {groceries.values}')\n",
    "print(f'Index: {groceries.index}')"
   ]
  },
  {
   "cell_type": "markdown",
   "metadata": {},
   "source": [
    "### Indexing and iteration\n",
    "\n",
    "We can access a element in a Pandas `Series` using numerical index and/or labeled index. There are also [properties](https://pandas.pydata.org/docs/reference/series.html#indexing-iteration) to be explicit about which one to use."
   ]
  },
  {
   "cell_type": "code",
   "execution_count": 4,
   "metadata": {},
   "outputs": [
    {
     "name": "stdout",
     "output_type": "stream",
     "text": [
      "Groceries 1st item: 30\n",
      "\n",
      "Groceries 2nd and 3rd items:\n",
      "apples      6\n",
      "milk      Yes\n",
      "dtype: object\n",
      "\n",
      "Groceries 4th item:\n",
      "bread    No\n",
      "dtype: object\n",
      "\n",
      "Groceries 1st and 2nd items:\n",
      "eggs      30\n",
      "apples     6\n",
      "dtype: object\n"
     ]
    }
   ],
   "source": [
    "print(f'Groceries 1st item: {groceries[-4]}')\n",
    "print('')\n",
    "\n",
    "print(f'Groceries 2nd and 3rd items:\\n{groceries[[\"apples\", \"milk\"]]}')\n",
    "print('')\n",
    "\n",
    "print(f'Groceries 4th item:\\n{groceries.iloc[[3]]}')\n",
    "print('')\n",
    "\n",
    "print(f'Groceries 1st and 2nd items:\\n{groceries.loc[[\"eggs\", \"apples\"]]}')"
   ]
  },
  {
   "cell_type": "markdown",
   "metadata": {},
   "source": [
    "### Mathematical Operations\n",
    "\n",
    "Like NumPy `ndarray`'s, we can perform mathematical operations, such as sum and subtract using symbols. We can also use NumPy mathematical functions on Pandas `Series`!"
   ]
  },
  {
   "cell_type": "code",
   "execution_count": 5,
   "metadata": {},
   "outputs": [
    {
     "name": "stdout",
     "output_type": "stream",
     "text": [
      "apples     12\n",
      "oranges     8\n",
      "bananas     5\n",
      "dtype: int64\n",
      "\n",
      "apples     22026.465795\n",
      "oranges      403.428793\n",
      "bananas       20.085537\n",
      "dtype: float64\n",
      "\n",
      "apples     100\n",
      "oranges     36\n",
      "bananas      9\n",
      "dtype: int64\n"
     ]
    }
   ],
   "source": [
    "fruits = pd.Series(data = [10, 6, 3], index = ['apples', 'oranges', 'bananas'])\n",
    "\n",
    "print(fruits + 2)\n",
    "print('')\n",
    "\n",
    "print(np.exp(fruits))\n",
    "print('')\n",
    "\n",
    "print(np.power(fruits, 2))"
   ]
  },
  {
   "cell_type": "markdown",
   "metadata": {},
   "source": [
    "## `DataFrame`\n",
    "\n",
    "[Pandas `DataFrame`'s](https://pandas.pydata.org/docs/reference/frame.html) are two dimensional data structures with labeled rows and columns, that can hold many data types, similiar to a spreadsheet or a table from a database.\n",
    "\n",
    "### Frame creation\n",
    "\n",
    "Before creating a `DataFrame`, we need a dictionary to pass to the [constructor](https://pandas.pydata.org/docs/reference/api/pandas.DataFrame.html#pandas.DataFrame)."
   ]
  },
  {
   "cell_type": "code",
   "execution_count": 6,
   "metadata": {},
   "outputs": [
    {
     "name": "stdout",
     "output_type": "stream",
     "text": [
      "Shopping Carts:\n",
      "         Alice    Bob\n",
      "bike     500.0  245.0\n",
      "book      40.0    NaN\n",
      "glasses  110.0    NaN\n",
      "pants     45.0   25.0\n",
      "watch      NaN   55.0\n"
     ]
    }
   ],
   "source": [
    "items = {'Alice': pd.Series(data = [40, 110, 500, 45], index = ['book', 'glasses', 'bike', 'pants']),\n",
    "         'Bob': pd.Series(data = [245, 25, 55], index = ['bike', 'pants', 'watch'])}\n",
    "\n",
    "shopping_carts = pd.DataFrame(items)\n",
    "\n",
    "print(f'Shopping Carts:\\n{shopping_carts}')"
   ]
  },
  {
   "cell_type": "markdown",
   "metadata": {},
   "source": [
    "### `DataFrame` attributes\n",
    "\n",
    "It's also possible to read information about its dimension, shape, size... There are a few [attributes](https://pandas.pydata.org/docs/reference/frame.html#attributes-and-underlying-data) to read metadata."
   ]
  },
  {
   "cell_type": "code",
   "execution_count": 7,
   "metadata": {},
   "outputs": [
    {
     "name": "stdout",
     "output_type": "stream",
     "text": [
      "Shape (5, 2)\n",
      "Rank (dimensions): 2\n",
      "# Elements: 10\n",
      "\n",
      "Data:\n",
      "[[500. 245.]\n",
      " [ 40.  nan]\n",
      " [110.  nan]\n",
      " [ 45.  25.]\n",
      " [ nan  55.]]\n",
      "\n",
      "Columns: Index(['Alice', 'Bob'], dtype='object')\n",
      "\n",
      "Index: Index(['bike', 'book', 'glasses', 'pants', 'watch'], dtype='object')\n"
     ]
    }
   ],
   "source": [
    "print(f'Shape {shopping_carts.shape}')\n",
    "print(f'Rank (dimensions): {shopping_carts.ndim}')\n",
    "print(f'# Elements: {shopping_carts.size}')\n",
    "print(f'')\n",
    "\n",
    "print(f'Data:\\n{shopping_carts.values}')\n",
    "print('')\n",
    "\n",
    "print(f'Columns: {shopping_carts.columns}')\n",
    "print('')\n",
    "\n",
    "print(f'Index: {shopping_carts.index}')"
   ]
  },
  {
   "cell_type": "markdown",
   "metadata": {},
   "source": [
    "### Indexing and iteration\n",
    "\n",
    "To access a column in a `DataFrame` we use double square brackets. To access a row (index), we can use the `DataFrame.loc` attribute. Like a standard matrix, if we want information about a specific element, we provide its \"coordinates\" (column, than row)."
   ]
  },
  {
   "cell_type": "code",
   "execution_count": 8,
   "metadata": {},
   "outputs": [
    {
     "name": "stdout",
     "output_type": "stream",
     "text": [
      "Store Items:\n",
      "         bikes  pants  watches  glasses\n",
      "store 1     20     30       35      NaN\n",
      "store 2     15      5       10     50.0\n",
      "\n",
      "Bikes and pants for each store:\n",
      "          bikes  pants\n",
      "store 1     20     30\n",
      "store 2     15      5\n",
      "\n",
      "Store 1 items:\n",
      "          bikes  pants  watches  glasses\n",
      "store 1     20     30       35      NaN\n",
      "\n",
      "Bikes in store 2: 15\n"
     ]
    }
   ],
   "source": [
    "items = [{'bikes': 20, 'pants': 30, 'watches': 35},\n",
    "         {'watches': 10, 'glasses': 50, 'bikes': 15, 'pants':5}]\n",
    "\n",
    "store_items = pd.DataFrame(items, index = ['store 1', 'store 2'])\n",
    "\n",
    "print(f'Store Items:\\n{store_items}')\n",
    "print('')\n",
    "\n",
    "print('Bikes and pants for each store:\\n', store_items[['bikes', 'pants']])\n",
    "print('')\n",
    "print('Store 1 items:\\n', store_items.loc[['store 1']])\n",
    "print('')\n",
    "print('Bikes in store 2:', store_items['bikes']['store 2'])"
   ]
  },
  {
   "cell_type": "markdown",
   "metadata": {},
   "source": [
    "### Missing data handling\n",
    "\n",
    "Missing data is a very common bad data found on datasets. Pandas assign `NaN` to missing data, and to deal with them, the first step is to count the number of `NaN`'s in the dataset."
   ]
  },
  {
   "cell_type": "code",
   "execution_count": 9,
   "metadata": {},
   "outputs": [
    {
     "name": "stdout",
     "output_type": "stream",
     "text": [
      "Store Items:\n",
      "         bikes  pants  watches  shirts  shoes  suits  glasses\n",
      "store 1     20     30       35    15.0      8   45.0      NaN\n",
      "store 2     15      5       10     2.0      5    7.0     50.0\n",
      "store 3     20     30       35     NaN     10    NaN      4.0\n",
      "\n",
      "# NaNs: 3\n"
     ]
    }
   ],
   "source": [
    "items = [{'bikes': 20, 'pants': 30, 'watches': 35, 'shirts': 15, 'shoes': 8, 'suits': 45},\n",
    "         {'watches': 10, 'glasses': 50, 'bikes': 15, 'pants': 5, 'shirts': 2, 'shoes': 5, 'suits': 7},\n",
    "         {'bikes': 20, 'pants': 30, 'watches': 35, 'glasses': 4, 'shoes': 10}]\n",
    "\n",
    "store_items = pd.DataFrame(items, index = ['store 1', 'store 2', 'store 3'])\n",
    "\n",
    "print(f'Store Items:\\n{store_items}')\n",
    "print('')\n",
    "print(f'# NaNs: {store_items.isna().sum().sum()}')"
   ]
  },
  {
   "cell_type": "markdown",
   "metadata": {},
   "source": [
    "Pandas provide a number of [methods to handle missing data](https://pandas.pydata.org/docs/reference/frame.html#missing-data-handling). The `DataFrame.isna` used above returns a `DataFrame` with boolean values, indicating where are the `NaN`'s. We could, for instance, use `DataFrame.notna` to return the opposite, or use `DataFrame.dropna` to remove a column or row with missing data."
   ]
  },
  {
   "cell_type": "code",
   "execution_count": 10,
   "metadata": {},
   "outputs": [
    {
     "name": "stdout",
     "output_type": "stream",
     "text": [
      "Drop rows with NaN:\n",
      "         bikes  pants  watches  shirts  shoes  suits  glasses\n",
      "store 2     15      5       10     2.0      5    7.0     50.0\n",
      "\n",
      "Drop columns with Nan:\n",
      "         bikes  pants  watches  shoes\n",
      "store 1     20     30       35      8\n",
      "store 2     15      5       10      5\n",
      "store 3     20     30       35     10\n"
     ]
    }
   ],
   "source": [
    "print(f'Drop rows with NaN:\\n{store_items.dropna(axis = 0)}')\n",
    "print('')\n",
    "print(f'Drop columns with Nan:\\n{store_items.dropna(axis = 1)}')"
   ]
  },
  {
   "cell_type": "markdown",
   "metadata": {},
   "source": [
    "The `DataFrame.fillna` allows us to do _forward filling_ or _backward filling_, i.e. fill `NaN`'s with previous and next values, respectively, using specified axis. We can also fill using interpolation with the `DataFrame.interpolate` method."
   ]
  },
  {
   "cell_type": "code",
   "execution_count": 11,
   "metadata": {},
   "outputs": [
    {
     "name": "stdout",
     "output_type": "stream",
     "text": [
      "Backward fill column:\n",
      "         bikes  pants  watches  shirts  shoes  suits  glasses\n",
      "store 1     20     30       35    15.0      8   45.0     50.0\n",
      "store 2     15      5       10     2.0      5    7.0     50.0\n",
      "store 3     20     30       35     NaN     10    NaN      4.0\n",
      "\n",
      "Forward fill row:\n",
      "         bikes  pants  watches  shirts  shoes  suits  glasses\n",
      "store 1   20.0   30.0     35.0    15.0    8.0   45.0     45.0\n",
      "store 2   15.0    5.0     10.0     2.0    5.0    7.0     50.0\n",
      "store 3   20.0   30.0     35.0    35.0   10.0   10.0      4.0\n",
      "\n",
      "(Linear) Interpolation:\n",
      "         bikes  pants  watches  shirts  shoes  suits  glasses\n",
      "store 1     20     30       35    15.0      8   45.0      NaN\n",
      "store 2     15      5       10     2.0      5    7.0     50.0\n",
      "store 3     20     30       35     2.0     10    7.0      4.0\n"
     ]
    }
   ],
   "source": [
    "print(f'Backward fill column:\\n{store_items.fillna(method = \"backfill\", axis = 0)}')\n",
    "print('')\n",
    "\n",
    "print(f'Forward fill row:\\n{store_items.fillna(method = \"ffill\", axis = 1)}')\n",
    "print('')\n",
    "\n",
    "print(f'(Linear) Interpolation:\\n{store_items.interpolate()}')"
   ]
  },
  {
   "cell_type": "markdown",
   "metadata": {},
   "source": [
    "### Input / Output\n",
    "\n",
    "Pandas offers a great variety of [functions to deal with files](https://pandas.pydata.org/docs/reference/io.html), such as CSV, JSON or Parquet."
   ]
  },
  {
   "cell_type": "code",
   "execution_count": 12,
   "metadata": {},
   "outputs": [
    {
     "data": {
      "text/html": [
       "<div>\n",
       "<style scoped>\n",
       "    .dataframe tbody tr th:only-of-type {\n",
       "        vertical-align: middle;\n",
       "    }\n",
       "\n",
       "    .dataframe tbody tr th {\n",
       "        vertical-align: top;\n",
       "    }\n",
       "\n",
       "    .dataframe thead th {\n",
       "        text-align: right;\n",
       "    }\n",
       "</style>\n",
       "<table border=\"1\" class=\"dataframe\">\n",
       "  <thead>\n",
       "    <tr style=\"text-align: right;\">\n",
       "      <th></th>\n",
       "      <th>Date</th>\n",
       "      <th>Open</th>\n",
       "      <th>High</th>\n",
       "      <th>Low</th>\n",
       "      <th>Close</th>\n",
       "      <th>Adj Close</th>\n",
       "      <th>Volume</th>\n",
       "    </tr>\n",
       "  </thead>\n",
       "  <tbody>\n",
       "    <tr>\n",
       "      <th>0</th>\n",
       "      <td>2004-08-19</td>\n",
       "      <td>49.676899</td>\n",
       "      <td>51.693783</td>\n",
       "      <td>47.669952</td>\n",
       "      <td>49.845802</td>\n",
       "      <td>49.845802</td>\n",
       "      <td>44994500</td>\n",
       "    </tr>\n",
       "    <tr>\n",
       "      <th>1</th>\n",
       "      <td>2004-08-20</td>\n",
       "      <td>50.178635</td>\n",
       "      <td>54.187561</td>\n",
       "      <td>49.925285</td>\n",
       "      <td>53.805050</td>\n",
       "      <td>53.805050</td>\n",
       "      <td>23005800</td>\n",
       "    </tr>\n",
       "    <tr>\n",
       "      <th>2</th>\n",
       "      <td>2004-08-23</td>\n",
       "      <td>55.017166</td>\n",
       "      <td>56.373344</td>\n",
       "      <td>54.172661</td>\n",
       "      <td>54.346527</td>\n",
       "      <td>54.346527</td>\n",
       "      <td>18393200</td>\n",
       "    </tr>\n",
       "    <tr>\n",
       "      <th>3</th>\n",
       "      <td>2004-08-24</td>\n",
       "      <td>55.260582</td>\n",
       "      <td>55.439419</td>\n",
       "      <td>51.450363</td>\n",
       "      <td>52.096165</td>\n",
       "      <td>52.096165</td>\n",
       "      <td>15361800</td>\n",
       "    </tr>\n",
       "    <tr>\n",
       "      <th>4</th>\n",
       "      <td>2004-08-25</td>\n",
       "      <td>52.140873</td>\n",
       "      <td>53.651051</td>\n",
       "      <td>51.604362</td>\n",
       "      <td>52.657513</td>\n",
       "      <td>52.657513</td>\n",
       "      <td>9257400</td>\n",
       "    </tr>\n",
       "    <tr>\n",
       "      <th>5</th>\n",
       "      <td>2004-08-26</td>\n",
       "      <td>52.135906</td>\n",
       "      <td>53.626213</td>\n",
       "      <td>51.991844</td>\n",
       "      <td>53.606342</td>\n",
       "      <td>53.606342</td>\n",
       "      <td>7148200</td>\n",
       "    </tr>\n",
       "    <tr>\n",
       "      <th>6</th>\n",
       "      <td>2004-08-27</td>\n",
       "      <td>53.700729</td>\n",
       "      <td>53.959049</td>\n",
       "      <td>52.503513</td>\n",
       "      <td>52.732029</td>\n",
       "      <td>52.732029</td>\n",
       "      <td>6258300</td>\n",
       "    </tr>\n",
       "    <tr>\n",
       "      <th>7</th>\n",
       "      <td>2004-08-30</td>\n",
       "      <td>52.299839</td>\n",
       "      <td>52.404160</td>\n",
       "      <td>50.675404</td>\n",
       "      <td>50.675404</td>\n",
       "      <td>50.675404</td>\n",
       "      <td>5235700</td>\n",
       "    </tr>\n",
       "    <tr>\n",
       "      <th>8</th>\n",
       "      <td>2004-08-31</td>\n",
       "      <td>50.819469</td>\n",
       "      <td>51.519913</td>\n",
       "      <td>50.749920</td>\n",
       "      <td>50.854240</td>\n",
       "      <td>50.854240</td>\n",
       "      <td>4954800</td>\n",
       "    </tr>\n",
       "    <tr>\n",
       "      <th>9</th>\n",
       "      <td>2004-09-01</td>\n",
       "      <td>51.018177</td>\n",
       "      <td>51.152302</td>\n",
       "      <td>49.512966</td>\n",
       "      <td>49.801090</td>\n",
       "      <td>49.801090</td>\n",
       "      <td>9206800</td>\n",
       "    </tr>\n",
       "  </tbody>\n",
       "</table>\n",
       "</div>"
      ],
      "text/plain": [
       "         Date       Open       High        Low      Close  Adj Close    Volume\n",
       "0  2004-08-19  49.676899  51.693783  47.669952  49.845802  49.845802  44994500\n",
       "1  2004-08-20  50.178635  54.187561  49.925285  53.805050  53.805050  23005800\n",
       "2  2004-08-23  55.017166  56.373344  54.172661  54.346527  54.346527  18393200\n",
       "3  2004-08-24  55.260582  55.439419  51.450363  52.096165  52.096165  15361800\n",
       "4  2004-08-25  52.140873  53.651051  51.604362  52.657513  52.657513   9257400\n",
       "5  2004-08-26  52.135906  53.626213  51.991844  53.606342  53.606342   7148200\n",
       "6  2004-08-27  53.700729  53.959049  52.503513  52.732029  52.732029   6258300\n",
       "7  2004-08-30  52.299839  52.404160  50.675404  50.675404  50.675404   5235700\n",
       "8  2004-08-31  50.819469  51.519913  50.749920  50.854240  50.854240   4954800\n",
       "9  2004-09-01  51.018177  51.152302  49.512966  49.801090  49.801090   9206800"
      ]
     },
     "execution_count": 12,
     "metadata": {},
     "output_type": "execute_result"
    }
   ],
   "source": [
    "google_stock = pd.read_csv('../csv/GOOG.csv')\n",
    "\n",
    "google_stock.head(10)"
   ]
  },
  {
   "cell_type": "markdown",
   "metadata": {},
   "source": [
    "### Computations / Descriptive Stats\n",
    "\n",
    "Like NumPy, Pandas also have [methods for statistical data](https://pandas.pydata.org/docs/reference/frame.html#computations-descriptive-stats)!"
   ]
  },
  {
   "cell_type": "code",
   "execution_count": 13,
   "metadata": {},
   "outputs": [
    {
     "name": "stdout",
     "output_type": "stream",
     "text": [
      "              Open         High          Low        Close    Adj Close  \\\n",
      "count  3313.000000  3313.000000  3313.000000  3313.000000  3313.000000   \n",
      "mean    380.186092   383.493740   376.519309   380.072458   380.072458   \n",
      "std     223.818650   224.974534   222.473232   223.853780   223.853780   \n",
      "min      49.274517    50.541279    47.669952    49.681866    49.681866   \n",
      "25%     226.556473   228.394516   224.003082   226.407440   226.407440   \n",
      "50%     293.312286   295.433502   289.929291   293.029114   293.029114   \n",
      "75%     536.650024   540.000000   532.409973   536.690002   536.690002   \n",
      "max     992.000000   997.210022   989.000000   989.679993   989.679993   \n",
      "\n",
      "             Volume  \n",
      "count  3.313000e+03  \n",
      "mean   8.038476e+06  \n",
      "std    8.399521e+06  \n",
      "min    7.900000e+03  \n",
      "25%    2.584900e+06  \n",
      "50%    5.281300e+06  \n",
      "75%    1.065370e+07  \n",
      "max    8.276810e+07  \n",
      "\n",
      "Highest high: 997.2100220000001\n",
      "Lowest low: 47.669952\n",
      "\n",
      "Correlation:\n",
      "               Open      High       Low     Close  Adj Close    Volume\n",
      "Open       1.000000  0.999904  0.999845  0.999745   0.999745 -0.564258\n",
      "High       0.999904  1.000000  0.999834  0.999868   0.999868 -0.562749\n",
      "Low        0.999845  0.999834  1.000000  0.999899   0.999899 -0.567007\n",
      "Close      0.999745  0.999868  0.999899  1.000000   1.000000 -0.564967\n",
      "Adj Close  0.999745  0.999868  0.999899  1.000000   1.000000 -0.564967\n",
      "Volume    -0.564258 -0.562749 -0.567007 -0.564967  -0.564967  1.000000\n"
     ]
    }
   ],
   "source": [
    "print(google_stock.describe())\n",
    "print('')\n",
    "\n",
    "print(f'Highest high: {google_stock[\"High\"].max()}')\n",
    "print(f'Lowest low: {google_stock[\"Low\"].min()}')\n",
    "print('')\n",
    "\n",
    "print(f'Correlation:\\n{google_stock.corr()}')"
   ]
  },
  {
   "cell_type": "markdown",
   "metadata": {},
   "source": [
    "### `DataFrame.groupby`\n",
    "\n",
    "Like a database `group by` clause, a `DataFrame` also has [`DataFrame.groupby`](https://pandas.pydata.org/docs/reference/api/pandas.DataFrame.groupby.html) method, used to aggregate data on one or more columns."
   ]
  },
  {
   "cell_type": "code",
   "execution_count": 14,
   "metadata": {},
   "outputs": [
    {
     "name": "stdout",
     "output_type": "stream",
     "text": [
      "   Year     Name Department  Age  Salary\n",
      "0  1990    Alice         HR   25   50000\n",
      "1  1990      Bob         RD   30   48000\n",
      "2  1990  Charlie      Admin   45   55000\n",
      "3  1991   Dakota         HR   26   52000\n",
      "4  1991     Elsa         RD   31   50000\n",
      "5  1991    Frank      Admin   46   60000\n",
      "6  1992    Grace      Admin   27   60000\n",
      "7  1992  Hoffman         RD   32   52000\n",
      "8  1992    Inaar      Admin   28   62000\n",
      "\n",
      "Year\n",
      "1990    153000\n",
      "1991    162000\n",
      "1992    174000\n",
      "Name: Salary, dtype: int64\n",
      "\n",
      "Year  Department\n",
      "1990  Admin          55000\n",
      "      HR             50000\n",
      "      RD             48000\n",
      "1991  Admin          60000\n",
      "      HR             52000\n",
      "      RD             50000\n",
      "1992  Admin         122000\n",
      "      RD             52000\n",
      "Name: Salary, dtype: int64\n",
      "\n",
      "Year  Name   \n",
      "1990  Alice      50000\n",
      "      Bob        48000\n",
      "      Charlie    55000\n",
      "1991  Dakota     52000\n",
      "      Elsa       50000\n",
      "      Frank      60000\n",
      "1992  Grace      60000\n",
      "      Hoffman    52000\n",
      "      Inaar      62000\n",
      "Name: Salary, dtype: int64\n"
     ]
    }
   ],
   "source": [
    "fake_company = pd.read_csv('../csv/fake-company.csv')\n",
    "\n",
    "print(fake_company.head(10))\n",
    "print('')\n",
    "\n",
    "print(fake_company.groupby(['Year'])['Salary'].sum())\n",
    "print('')\n",
    "\n",
    "print(fake_company.groupby(['Year', 'Department'])['Salary'].sum())\n",
    "print('')\n",
    "\n",
    "print(fake_company.groupby(['Year', 'Name'])['Salary'].sum())"
   ]
  },
  {
   "cell_type": "markdown",
   "metadata": {},
   "source": [
    "# Mini-Project\n",
    "\n",
    "At the end of lesson 4, the mini-project called \"Statistics from Stock Data\" should be completed. The solution was added at [pandas-mini-project.ipynb](../quizes/pandas.ipynb)."
   ]
  }
 ],
 "metadata": {
  "kernelspec": {
   "display_name": "Python 3",
   "language": "python",
   "name": "python3"
  },
  "language_info": {
   "codemirror_mode": {
    "name": "ipython",
    "version": 3
   },
   "file_extension": ".py",
   "mimetype": "text/x-python",
   "name": "python",
   "nbconvert_exporter": "python",
   "pygments_lexer": "ipython3",
   "version": "3.8.5"
  }
 },
 "nbformat": 4,
 "nbformat_minor": 4
}
